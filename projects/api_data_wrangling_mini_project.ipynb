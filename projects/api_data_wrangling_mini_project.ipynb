{
 "cells": [
  {
   "cell_type": "markdown",
   "metadata": {},
   "source": [
    "This exercise will require you to pull some data from the Qunadl API. Qaundl is currently the most widely used aggregator of financial market data."
   ]
  },
  {
   "cell_type": "markdown",
   "metadata": {},
   "source": [
    "As a first step, you will need to register a free account on the http://www.quandl.com website."
   ]
  },
  {
   "cell_type": "markdown",
   "metadata": {},
   "source": [
    "After you register, you will be provided with a unique API key, that you should store:"
   ]
  },
  {
   "cell_type": "code",
   "execution_count": 2,
   "metadata": {},
   "outputs": [],
   "source": [
    "# Store the API key as a string - according to PEP8, constants are always named in all upper case\n",
    "API_KEY = ''"
   ]
  },
  {
   "cell_type": "markdown",
   "metadata": {},
   "source": [
    "Qaundl has a large number of data sources, but, unfortunately, most of them require a Premium subscription. Still, there are also a good number of free datasets."
   ]
  },
  {
   "cell_type": "markdown",
   "metadata": {},
   "source": [
    "For this mini project, we will focus on equities data from the Frankfurt Stock Exhange (FSE), which is available for free. We'll try and analyze the stock prices of a company called Carl Zeiss Meditec, which manufactures tools for eye examinations, as well as medical lasers for laser eye surgery: https://www.zeiss.com/meditec/int/home.html. The company is listed under the stock ticker AFX_X."
   ]
  },
  {
   "cell_type": "markdown",
   "metadata": {},
   "source": [
    "You can find the detailed Quandl API instructions here: https://docs.quandl.com/docs/time-series"
   ]
  },
  {
   "cell_type": "markdown",
   "metadata": {},
   "source": [
    "While there is a dedicated Python package for connecting to the Quandl API, we would prefer that you use the *requests* package, which can be easily downloaded using *pip* or *conda*. You can find the documentation for the package here: http://docs.python-requests.org/en/master/ "
   ]
  },
  {
   "cell_type": "markdown",
   "metadata": {},
   "source": [
    "Finally, apart from the *requests* package, you are encouraged to not use any third party Python packages, such as *pandas*, and instead focus on what's available in the Python Standard Library (the *collections* module might come in handy: https://pymotw.com/3/collections/ ).\n",
    "Also, since you won't have access to DataFrames, you are encouraged to us Python's native data structures - preferably dictionaries, though some questions can also be answered using lists.\n",
    "You can read more on these data structures here: https://docs.python.org/3/tutorial/datastructures.html"
   ]
  },
  {
   "cell_type": "markdown",
   "metadata": {},
   "source": [
    "Keep in mind that the JSON responses you will be getting from the API map almost one-to-one to Python's dictionaries. Unfortunately, they can be very nested, so make sure you read up on indexing dictionaries in the documentation provided above."
   ]
  },
  {
   "cell_type": "code",
   "execution_count": 1,
   "metadata": {},
   "outputs": [],
   "source": [
    "# First, import the relevant modules\n",
    "import requests\n"
   ]
  },
  {
   "cell_type": "code",
   "execution_count": 22,
   "metadata": {},
   "outputs": [
    {
     "name": "stdout",
     "output_type": "stream",
     "text": [
      "{'dataset_data': {'limit': None, 'transform': None, 'column_index': None, 'column_names': ['Date', 'Open', 'High', 'Low', 'Close', 'Change', 'Traded Volume', 'Turnover', 'Last Price of the Day', 'Daily Traded Units', 'Daily Turnover'], 'start_date': '2020-07-06', 'end_date': '2020-07-06', 'frequency': 'daily', 'data': [['2020-07-06', 10.4, 10.49, 10.285, 10.305, None, 5592670.0, 57973190.61, None, None, None]], 'collapse': None, 'order': None}}\n"
     ]
    }
   ],
   "source": [
    "# Now, call the Quandl API and pull out a small sample of the data (only one day) to get a glimpse\n",
    "# into the JSON structure that will be returned\n",
    "date_test = \"2020-07-06\"\n",
    "url = 'https://www.quandl.com/api/v3/datasets/FSE/EON_X/data.json'\n",
    "params = dict(api_key=API_KEY,start_date=date_test,end_date=date_test)\n",
    "\n",
    "res = requests.get(url,params=params)\n",
    "json_data = res.json()\n",
    "print(json_data)\n"
   ]
  },
  {
   "cell_type": "code",
   "execution_count": 26,
   "metadata": {},
   "outputs": [
    {
     "name": "stdout",
     "output_type": "stream",
     "text": [
      "dataset_data:  {'limit': None, 'transform': None, 'column_index': None, 'column_names': ['Date', 'Open', 'High', 'Low', 'Close', 'Change', 'Traded Volume', 'Turnover', 'Last Price of the Day', 'Daily Traded Units', 'Daily Turnover'], 'start_date': '2020-07-06', 'end_date': '2020-07-06', 'frequency': 'daily', 'data': [['2020-07-06', 10.4, 10.49, 10.285, 10.305, None, 5592670.0, 57973190.61, None, None, None]], 'collapse': None, 'order': None}\n",
      "['Date', 'Open', 'High', 'Low', 'Close', 'Change', 'Traded Volume', 'Turnover', 'Last Price of the Day', 'Daily Traded Units', 'Daily Turnover']\n"
     ]
    }
   ],
   "source": [
    "# Inspect the JSON structure of the object you created, and take note of how nested it is,\n",
    "# as well as the overall structure\n",
    "for k in json_data.keys():\n",
    "    print(k + ': ', json_data[k])\n",
    "    \n",
    "print(json_data['dataset_data']['column_names'])    \n",
    "\n",
    "    "
   ]
  },
  {
   "cell_type": "markdown",
   "metadata": {},
   "source": [
    "These are your tasks for this mini project:\n",
    "\n",
    "1. Collect data from the Franfurt Stock Exchange, for the ticker AFX_X, for the whole year 2017 (keep in mind that the date format is YYYY-MM-DD).\n",
    "2. Convert the returned JSON object into a Python dictionary.\n",
    "3. Calculate what the highest and lowest opening prices were for the stock in this period.\n",
    "4. What was the largest change in any one day (based on High and Low price)?\n",
    "5. What was the largest change between any two days (based on Closing Price)?\n",
    "6. What was the average daily trading volume during this year?\n",
    "7. (Optional) What was the median trading volume during this year. (Note: you may need to implement your own function for calculating the median.)"
   ]
  },
  {
   "cell_type": "code",
   "execution_count": 67,
   "metadata": {},
   "outputs": [],
   "source": [
    "#question 1 - reset params to query for year 2017\n",
    "date_start = \"2017-01-01\"\n",
    "date_end = \"2017-12-31\"\n",
    "url = 'https://www.quandl.com/api/v3/datasets/FSE/EON_X/data.json'\n",
    "params = dict(api_key=API_KEY,start_date=date_start,end_date=date_end,order='asc')\n",
    "\n",
    "res = requests.get(url,params=params)\n",
    "\n",
    "\n"
   ]
  },
  {
   "cell_type": "code",
   "execution_count": 68,
   "metadata": {},
   "outputs": [
    {
     "name": "stdout",
     "output_type": "stream",
     "text": [
      "<class 'dict'>\n"
     ]
    }
   ],
   "source": [
    "#question 2 - convert returned json object into python dictionary\n",
    "json_data = res.json()\n",
    "\n",
    "print(type(json_data))\n",
    "\n"
   ]
  },
  {
   "cell_type": "code",
   "execution_count": 69,
   "metadata": {},
   "outputs": [
    {
     "name": "stdout",
     "output_type": "stream",
     "text": [
      "['Date', 'Open', 'High', 'Low', 'Close', 'Change', 'Traded Volume', 'Turnover', 'Last Price of the Day', 'Daily Traded Units', 'Daily Turnover']\n",
      "MAX - 2017-11-09: 10.75\n",
      "MIN - 2017-01-05: 6.65\n"
     ]
    }
   ],
   "source": [
    "#question 3 - calculate highest & lowest opening prices for the stock during 2017\n",
    "\n",
    "print(json_data['dataset_data']['column_names'])\n",
    "\n",
    "#assign daily_data data-only values, already organized by day per date key\n",
    "daily_data = json_data['dataset_data']['data']\n",
    "\n",
    "open_prices = dict()\n",
    "\n",
    "#assign open_prices dictionary the open price value for each day in 2017\n",
    "for day_data in daily_data:\n",
    "    open_prices[day_data[0]] = day_data[1]\n",
    "    \n",
    "#find and print date for max & min open price values respectively\n",
    "print(\"MAX - \" + max(open_prices, key=open_prices.get) + \": \" + str(open_prices[max(open_prices, key=open_prices.get)]))\n",
    "print(\"MIN - \" + min(open_prices, key=open_prices.get) + \": \" + str(open_prices[min(open_prices, key=open_prices.get)]))"
   ]
  },
  {
   "cell_type": "code",
   "execution_count": 70,
   "metadata": {},
   "outputs": [
    {
     "name": "stdout",
     "output_type": "stream",
     "text": [
      "MAX - 2017-12-13: 0.6999999999999993\n"
     ]
    }
   ],
   "source": [
    "#question 4 - What was the largest change in any one day (based on High and Low price)?\n",
    "daily_delta = dict()\n",
    "\n",
    "for day_data in daily_data:\n",
    "    daily_delta[day_data[0]] = day_data[2] - day_data[3]\n",
    "\n",
    "#print max price found from the daily delta between the high/low prices\n",
    "print(\"MAX - \" + max(daily_delta, key=daily_delta.get) + \": \" + str(daily_delta[max(daily_delta, key=daily_delta.get)]))\n"
   ]
  },
  {
   "cell_type": "code",
   "execution_count": 84,
   "metadata": {},
   "outputs": [
    {
     "name": "stdout",
     "output_type": "stream",
     "text": [
      "2017-12-13: 0.47999999999999865\n"
     ]
    }
   ],
   "source": [
    "#question 5 - What was the largest change between any two days (based on Closing Price)?\n",
    "\n",
    "prev_day_close, two_day_maxdelta = [0,0]\n",
    "\n",
    "#traverse through daily data already sorted in chronological order. calculate change between yesterday and today.\n",
    "#compare this value to the stored 'two_day_maxdelta', if it's bigger, set current value to 'two_day_maxdelta'\n",
    "for day_data in daily_data:\n",
    "    if daily_data.index(day_data) != 0:        \n",
    "        if abs(day_data[4] - prev_day_close) > two_day_maxdelta:\n",
    "            two_day_maxdelta = abs(day_data[4] - prev_day_close)\n",
    "            two_day_maxdelta_date = day_data[0]\n",
    "        prev_day_close = day_data[4]\n",
    "    else:\n",
    "        prev_day_close = day_data[4]\n",
    "\n",
    "\n",
    "print(two_day_maxdelta_date + \": \" + str(two_day_maxdelta))"
   ]
  },
  {
   "cell_type": "code",
   "execution_count": 89,
   "metadata": {},
   "outputs": [
    {
     "name": "stdout",
     "output_type": "stream",
     "text": [
      "11708661.142857144\n"
     ]
    }
   ],
   "source": [
    "#question 6 - What was the average daily trading volume during this year?\n",
    "\n",
    "#accept list as parameter, calculates average by finding the sum and number of elements in the list\n",
    "def average(lst): \n",
    "    if lst:\n",
    "        return sum(lst) / len(lst) \n",
    "\n",
    "daily_volume = list()\n",
    "\n",
    "#populate list with trade volume per day\n",
    "for day_data in daily_data:\n",
    "    daily_volume.append(day_data[6])\n",
    "\n",
    "print(average(daily_volume))"
   ]
  },
  {
   "cell_type": "code",
   "execution_count": 104,
   "metadata": {},
   "outputs": [
    {
     "name": "stdout",
     "output_type": "stream",
     "text": [
      "10542121.0\n"
     ]
    }
   ],
   "source": [
    "#question 7 - (Optional) What was the median trading volume during this year. (Note: you may need to implement your own function for calculating the median.)\n",
    "\n",
    "#list comprehension to create list\n",
    "daily_volume_from_lcomp = [item[6] for item in daily_data]\n",
    "\n",
    "#accept list as parameter, calculates median from list\n",
    "def find_median(lst):\n",
    "    lst.sort()\n",
    "    middle = len(lst) // 2\n",
    "    if len(lst) % 2 == 0:        \n",
    "        return (lst[middle-1] + lst[middle]) / 2\n",
    "    else:\n",
    "        return lst[middle]\n",
    "        \n",
    "print(find_median(daily_volume_from_lcomp))"
   ]
  },
  {
   "cell_type": "code",
   "execution_count": null,
   "metadata": {},
   "outputs": [],
   "source": []
  }
 ],
 "metadata": {
  "kernelspec": {
   "display_name": "Python 3",
   "language": "python",
   "name": "python3"
  },
  "language_info": {
   "codemirror_mode": {
    "name": "ipython",
    "version": 3
   },
   "file_extension": ".py",
   "mimetype": "text/x-python",
   "name": "python",
   "nbconvert_exporter": "python",
   "pygments_lexer": "ipython3",
   "version": "3.7.7"
  }
 },
 "nbformat": 4,
 "nbformat_minor": 2
}
